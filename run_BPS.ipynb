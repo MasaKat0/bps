{
 "cells": [
  {
   "cell_type": "code",
   "execution_count": 1,
   "metadata": {},
   "outputs": [
    {
     "name": "stderr",
     "output_type": "stream",
     "text": [
      "── \u001b[1mAttaching packages\u001b[22m ─────────────────────────────────────── tidyverse 1.3.1 ──\n",
      "\n",
      "\u001b[32m✔\u001b[39m \u001b[34mggplot2\u001b[39m 3.3.6      \u001b[32m✔\u001b[39m \u001b[34mpurrr  \u001b[39m 0.3.4 \n",
      "\u001b[32m✔\u001b[39m \u001b[34mtibble \u001b[39m 3.1.8      \u001b[32m✔\u001b[39m \u001b[34mdplyr  \u001b[39m 1.0.10\n",
      "\u001b[32m✔\u001b[39m \u001b[34mtidyr  \u001b[39m 1.2.1      \u001b[32m✔\u001b[39m \u001b[34mstringr\u001b[39m 1.4.0 \n",
      "\u001b[32m✔\u001b[39m \u001b[34mreadr  \u001b[39m 2.1.2      \u001b[32m✔\u001b[39m \u001b[34mforcats\u001b[39m 0.5.1 \n",
      "\n",
      "Warning message:\n",
      "“ パッケージ ‘ggplot2’ はバージョン 4.1.2 の R の下で造られました ”\n",
      "Warning message:\n",
      "“ パッケージ ‘tibble’ はバージョン 4.1.2 の R の下で造られました ”\n",
      "Warning message:\n",
      "“ パッケージ ‘tidyr’ はバージョン 4.1.2 の R の下で造られました ”\n",
      "Warning message:\n",
      "“ パッケージ ‘readr’ はバージョン 4.1.2 の R の下で造られました ”\n",
      "Warning message:\n",
      "“ パッケージ ‘dplyr’ はバージョン 4.1.2 の R の下で造られました ”\n",
      "── \u001b[1mConflicts\u001b[22m ────────────────────────────────────────── tidyverse_conflicts() ──\n",
      "\u001b[31m✖\u001b[39m \u001b[34mdplyr\u001b[39m::\u001b[32mfilter()\u001b[39m masks \u001b[34mstats\u001b[39m::filter()\n",
      "\u001b[31m✖\u001b[39m \u001b[34mdplyr\u001b[39m::\u001b[32mlag()\u001b[39m    masks \u001b[34mstats\u001b[39m::lag()\n",
      "\n",
      "\n",
      " 次のパッケージを付け加えます: ‘MASS’ \n",
      "\n",
      "\n",
      " 以下のオブジェクトは ‘package:dplyr’ からマスクされています: \n",
      "\n",
      "     select \n",
      "\n",
      "\n"
     ]
    }
   ],
   "source": [
    "library(openxlsx)\n",
    "library(tidyverse)\n",
    "\n",
    "source(\"BPS.R\")"
   ]
  },
  {
   "cell_type": "markdown",
   "metadata": {},
   "source": [
    " Read data from excel sheet with data and agent forecasts"
   ]
  },
  {
   "cell_type": "code",
   "execution_count": 2,
   "metadata": {},
   "outputs": [],
   "source": [
    "#Target data (quarterly inflation)\n",
    "yI <- read.xlsx(\"data.xlsx\",sheet=\"Inflation\")\n",
    "yI <- matrix(as.numeric(as.matrix(yI)[,2:ncol(yI)]), nrow(yI), ncol(yI)-1)\n",
    "#Agent mean\n",
    "a <- read.xlsx(\"data.xlsx\",sheet=\"Agent Mean\")\n",
    "a <- matrix(as.numeric(as.matrix(a)[,2:ncol(a)]), nrow(a), ncol(a)-1)\n",
    "#Agent variance\n",
    "A <- read.xlsx('data.xlsx',sheet='Agent Var')\n",
    "A <- matrix(as.numeric(as.matrix(A)[,2:ncol(A)]), nrow(A), ncol(A)-1)\n",
    "#Agent degrees of freedom\n",
    "n  <- read.xlsx('data.xlsx',sheet='Agent dof')\n",
    "n  <- matrix(as.numeric(as.matrix(n)[,2:ncol(n)]), nrow(n), ncol(n)-1)"
   ]
  },
  {
   "cell_type": "code",
   "execution_count": 3,
   "metadata": {},
   "outputs": [],
   "source": [
    "#Total time in analysis\n",
    "T <- length(yI)\n",
    "#Number of agents\n",
    "J = dim(a)[2]\n",
    "#Number of agents + intercept\n",
    "p = J+1\n",
    "#Number of forecast periods\n",
    "K = 100"
   ]
  },
  {
   "cell_type": "code",
   "execution_count": 4,
   "metadata": {},
   "outputs": [],
   "source": [
    "## Set priors\n",
    "#　Discount factor [state observation] variance\n",
    "disc_rate = c(0.95, 0.99)\n",
    "#　Prior on mean of BPS coefficients\n",
    "prior_mean = c(0, rep(1, J)*1/J)\n",
    "#　Prior on covariance of BPS coefficients\n",
    "prior_var = diag(p)*1\n",
    "#　Prior on BPS degrees of freedom\n",
    "prior_df = 1/(1-disc_rate[2])\n",
    "#　Prior on BPS observation variance\n",
    "prior_obs_var = 0.01"
   ]
  },
  {
   "cell_type": "code",
   "execution_count": 13,
   "metadata": {},
   "outputs": [],
   "source": [
    "## Burn_in and MCMC\n",
    "burn_in <- 3000;\n",
    "mcmc_iter <- 5000;"
   ]
  },
  {
   "cell_type": "code",
   "execution_count": 6,
   "metadata": {},
   "outputs": [],
   "source": [
    "burn_in <- 3;\n",
    "mcmc_iter <- 10;"
   ]
  },
  {
   "cell_type": "code",
   "execution_count": 14,
   "metadata": {},
   "outputs": [],
   "source": [
    "## Run BPA\n",
    "# Posterior BPS mean\n",
    "E_BPS <-　matrix(0, mcmc_iter, K)\n",
    "# Posterior BPS mean\n",
    "E_BPS = matrix(0, mcmc_iter,K); \n",
    "# Posterior BPS variance\n",
    "V_BPS = matrix(0, mcmc_iter,K); \n",
    "error = matrix(0, mcmc_iter,K);\n",
    "mlike = matrix(0, mcmc_iter,K);\n",
    "#　Posterior BPS forecast coefficient mean\n",
    "ak_results = rep(0, K);\n",
    "# Posterior BPS forecast coefficient variance\n",
    "Rk_results = rep(0, K);\n",
    "# Posterior BPS forecast observation variance\n",
    "vt_results = rep(0, K);\n",
    "# Posterior BPS forecast degrees of freedom\n",
    "nt_results = rep(0, K);\n",
    "nu = matrix(0, K, 1)\n",
    "std_var <- function(x) {\n",
    "    return ((x + t(x)) / 2)\n",
    "  }"
   ]
  },
  {
   "cell_type": "code",
   "execution_count": 26,
   "metadata": {},
   "outputs": [],
   "source": [
    "for (t in 50:(T-1)) {\n",
    "  print(t)\n",
    "  y = yI[1:t]\n",
    "  mean_agent = a[1:t,];\n",
    "  var_agent = A[1:t,];\n",
    "  df_agent = n[1:t,];\n",
    "  \n",
    "  results <- BPS(y, mean_agent, var_agent, df_agent, disc_rate, prior_mean, prior_var, prior_df, prior_obs_var, burn_in, mcmc_iter)\n",
    "  \n",
    "  a_k <- results$a_k\n",
    "  R_k <- results$R_k\n",
    "  v_k <- results$v_k\n",
    "  n_k <- results$n_k\n",
    "  theta_post <- results$theta_post\n",
    "  X_post <- results$X_post\n",
    "  \n",
    "  #ak_results[t] = a_k;\n",
    "  #Rk_results[t] = R_k;\n",
    "  #vt_results[t] = v_k;\n",
    "  #nt_results[t] = n_k;\n",
    "  nu[t - 49] = n_k;\n",
    "  \n",
    "  for (i in 1:mcmc_iter) {\n",
    "    rand_gamma <- rgamma(n = 1, shape =disc_rate[2]*n[t+1]/2)\n",
    "    lambda <- sqrt(0.5*disc_rate[2]*n[t+1]/rand_gamma)\n",
    "    \n",
    "    chol_variance <- length(a[t+1,])*chol(std_var(diag(A[t+1,])))\n",
    "    x_t <- mvrnorm(1, matrix(0, nrow(chol_variance)), chol_variance)\n",
    "    x_t <- t(matrix(c(1, a[t+1,] + x_t)))\n",
    "    \n",
    "    # compute aggregated mean and variance\n",
    "    E_BPS[i,t-49] = x_t %*% t(t(a_k[i,]))\n",
    "    V_BPS[i,t-49] = x_t %*% R_k[(p*i-(p-1)):(p*i),] %*% t(x_t) +v_k[i]\n",
    "    \n",
    "    error[i,t -49] = yI[t+1]-E_BPS[i,t-49]\n",
    "    mlike[i,t-49] = exp(log(gamma(0.5*(nu[t-49]+1)))-log(gamma(0.5*nu[t-49]))-0.5*log(pi*nu[t-49]*V_BPS[i,t-49])-(0.5*(nu[t-49]+1))*log(1+1/(nu[t-49]*V_BPS[i,t-49])*(yI[t+1]-E_BPS[i,t-49])^2))\n",
    "    \n",
    "  }\n",
    "}"
   ]
  },
  {
   "cell_type": "code",
   "execution_count": null,
   "metadata": {},
   "outputs": [],
   "source": []
  }
 ],
 "metadata": {
  "kernelspec": {
   "display_name": "R",
   "language": "R",
   "name": "ir"
  },
  "language_info": {
   "codemirror_mode": "r",
   "file_extension": ".r",
   "mimetype": "text/x-r-source",
   "name": "R",
   "pygments_lexer": "r",
   "version": "4.1.0"
  }
 },
 "nbformat": 4,
 "nbformat_minor": 2
}
